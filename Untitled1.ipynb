{
 "cells": [
  {
   "cell_type": "code",
   "execution_count": null,
   "metadata": {},
   "outputs": [],
   "source": [
    "import bql\n",
    "import numpy as np\n",
    "from IPython.display import display, clear_output\n",
    "import pandas as pd\n",
    "import os\n",
    "import time\n",
    "import bqport\n",
    "from datetime import date, datetime, timedelta\n",
    "import datetime\n",
    "from ipywidgets import *\n",
    "from  bqwidgets import AutoComplete, DatePicker\n",
    "import ipywidgets\n",
    "from openpyxl import load_workbook\n",
    "import shutil\n",
    "\n",
    "bq = bql.Service()\n",
    "d = bq.data\n",
    "f = bq.func\n",
    "u = bq.univ\n",
    "\n",
    "def bq_res_array_to_pd(res_array):\n",
    "    a = res_array[0].df().reset_index()\n",
    "    r_all = pd.DataFrame({'ID':a['ID']})\n",
    "    for res in res_array:\n",
    "        r_n = res.df().reset_index()\n",
    "        r_all = r_all.merge(r_n, on = 'ID')\n",
    "    return r_all\n",
    "\n",
    "request =  bql.Request(u.list(aux_ficur_asset_list), {'Name': d.LONG_COMP_NAME(), 'Tipo_sec': d.SECURITY_TYP()['value'],\n",
    "                                                      'País_Assets': f.if_(d.COUNTRY_FULL_NAME()['value'] == 'U.S.', 'UNITED STATES', d.COUNTRY_FULL_NAME()['value']),\n",
    "                                                      'Sector': f.if_(d.BICS_LEVEL_1_SECTOR_NAME()['value'] == 'Financial', 'Financials', d.BICS_LEVEL_1_SECTOR_NAME()['value']),\n",
    "                                                      'Interests': d.INT_ACC()['value']/100,\n",
    "                                                      'Cupón': d.CPN()['value']/100, 'Coupon_nxt_date': d.NXT_CPN_DT()['value'], 'Coupon_freq': d.CPN_FREQ()['value'],\n",
    "                                                      'Vencimiento': d.MATURITY()['value'], 'Matur_type': d.MTY_TYP()['value'],\n",
    "                                                      'Rating': f.if_(f.or_(d.RTG_SP()['value'] == np.nan, d.RTG_SP()['value'] == 'N.A.'), d.BB_COMPOSITE()['value'], d.RTG_SP()['value']), 'ISIN': d.ID_ISIN()['value']})\n",
    "\n",
    "res = bq.execute(request)\n",
    "aux_mat2 = bq_res_array_to_pd(res)"
   ]
  }
 ],
 "metadata": {
  "kernelspec": {
   "display_name": "Python 3",
   "language": "python",
   "name": "python3"
  },
  "language_info": {
   "codemirror_mode": {
    "name": "ipython",
    "version": 3
   },
   "file_extension": ".py",
   "mimetype": "text/x-python",
   "name": "python",
   "nbconvert_exporter": "python",
   "pygments_lexer": "ipython3",
   "version": "3.7.1"
  }
 },
 "nbformat": 4,
 "nbformat_minor": 2
}
