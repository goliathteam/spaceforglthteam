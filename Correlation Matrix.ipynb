{
 "cells": [
  {
   "cell_type": "code",
   "execution_count": 25,
   "metadata": {
    "collapsed": true,
    "deletable": true,
    "editable": true
   },
   "outputs": [],
   "source": [
    "import bql\n",
    "import numpy as np\n",
    "from IPython.display import display, clear_output\n",
    "import pandas as pd\n",
    "import time \n",
    "import datetime\n",
    "from ipywidgets import *\n",
    "from bqplot import *\n",
    "from bqplot.interacts import *\n",
    "\n",
    "bq = bql.Service()\n",
    "d = bq.data\n",
    "f = bq.func\n",
    "u = bq.univ"
   ]
  },
  {
   "cell_type": "code",
   "execution_count": 26,
   "metadata": {
    "collapsed": true,
    "deletable": true,
    "editable": true
   },
   "outputs": [],
   "source": [
    "#INPUTS    ********************\n",
    "asset_list=['IBE SM Equity', 'SAN SM Equity', 'ITX SM Equity', 'TEF SM Equity']\n",
    "cur='EUR'\n",
    "start_date = datetime.datetime(2018, 5, 12)\n",
    "end_date = datetime.datetime(2018, 6, 12)"
   ]
  },
  {
   "cell_type": "code",
   "execution_count": 27,
   "metadata": {
    "collapsed": true,
    "deletable": true,
    "editable": true
   },
   "outputs": [],
   "source": [
    "def norm_corr(as1, as2, st_date, e_date, cur):\n",
    "    price = d.px_last(start = st_date, end = e_date, fill='prev', currency = cur)\n",
    "    price = f.zscore(price)\n",
    "    base_price = f.value(price, u.list(as1))\n",
    "    correlation = f.corr(base_price, price)\n",
    "\n",
    "    request = bql.Request(as2, {'Cor': correlation})\n",
    "    res = bq.execute(request)\n",
    "    cor_res = res[0].df()\n",
    "    \n",
    "    return cor_res.iloc[0]['Cor']"
   ]
  },
  {
   "cell_type": "code",
   "execution_count": 28,
   "metadata": {
    "collapsed": false,
    "deletable": true,
    "editable": true,
    "scrolled": false
   },
   "outputs": [
    {
     "data": {
      "application/vnd.jupyter.widget-view+json": {
       "model_id": "a4518867cdf844c795e3cbdfed5bc98b"
      }
     },
     "metadata": {},
     "output_type": "display_data"
    }
   ],
   "source": [
    "###############    MAIN    ###############\n",
    "\n",
    "#Calculate Correlation Matrix\n",
    "count = 0\n",
    "for asset1 in asset_list:\n",
    "    aux_cor_list=[]\n",
    "    for asset2 in asset_list:\n",
    "        aux_cor_list.append(norm_corr(asset1,asset2,start_date,end_date,cur))\n",
    "        \n",
    "    if count == 0:\n",
    "        Correl_Matrix = pd.DataFrame({asset1: pd.Series(aux_cor_list, index = asset_list)})\n",
    "    else:\n",
    "        aux_Correl_Matrix = pd.DataFrame({asset1: pd.Series(aux_cor_list, index = asset_list)})\n",
    "        Correl_Matrix = pd.concat([Correl_Matrix, aux_Correl_Matrix],axis = 1)\n",
    "        \n",
    "    count += 1\n",
    "\n",
    "#Display Heatmap    \n",
    "names = pd.Index(asset_list)\n",
    "s = pd.Series(np.sqrt(np.diag(Correl_Matrix)), index=Correl_Matrix.index)\n",
    "\n",
    "tkx = np.kron(np.ones_like(Correl_Matrix.index), Correl_Matrix.index)\n",
    "tky = np.kron(Correl_Matrix.index, np.ones_like(Correl_Matrix.index))\n",
    "\n",
    "sc_cov_x = OrdinalScale()\n",
    "sc_cov_y = OrdinalScale(reverse=True)\n",
    "col_sc = ColorScale(min=-1.0, max=1.0, colors=['#998ec3', '#f7f7f7', '#f1a340'])\n",
    "ax_cov_x = Axis(scale=sc_cov_x, side='top')\n",
    "ax_cov_y = Axis(scale=sc_cov_y, orientation='vertical')\n",
    "grid_map = GridHeatMap(color=Correl_Matrix, row=names, column=names,\n",
    "                       scales={'column': sc_cov_x, 'row': sc_cov_y, 'color': col_sc})\n",
    "\n",
    "lab = Label(x=np.kron(np.ones_like(names), names), y=np.kron(names, np.ones_like(names)),\n",
    "            text=['{:0.2f}'.format(Correl_Matrix.loc[tkx[i],tky[i]]).replace('-0', '-').lstrip('0') if tkx[i] != tky[i] else '{:0.1%}'.format(s.loc[tkx[i]]) for i in range(len(tkx))],\n",
    "            scales={'x': sc_cov_x, 'y': sc_cov_y}, align='middle',\n",
    "            colors=['black' if tkx[i] != tky[i] else 'yellow' for i in range(len(tkx))])\n",
    "\n",
    "grid_fig = Figure(marks=[grid_map, lab], axes=[ax_cov_x, ax_cov_y], padding_y=0.0)\n",
    "grid_fig.layout.width = '800px'\n",
    "grid_fig.layout.height = '800px'\n",
    "\n",
    "display(grid_fig)\n",
    "\n",
    "#col_sc = ColorScale()\n",
    "#grid_map = GridHeatMap(color=Correl_Matrix, scales={'color': col_sc})\n",
    "\n",
    "#Figure(marks=[grid_map], padding_y=0.0)"
   ]
  }
 ],
 "metadata": {
  "kernelspec": {
   "display_name": "Python 3 (sandboxed)",
   "language": "python",
   "name": "python3"
  },
  "language_info": {
   "codemirror_mode": {
    "name": "ipython",
    "version": 3
   },
   "file_extension": ".py",
   "mimetype": "text/x-python",
   "name": "python",
   "nbconvert_exporter": "python",
   "pygments_lexer": "ipython3",
   "version": "3.5.5"
  }
 },
 "nbformat": 4,
 "nbformat_minor": 0
}
