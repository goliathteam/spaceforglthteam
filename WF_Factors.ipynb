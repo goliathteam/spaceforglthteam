{
 "cells": [
  {
   "cell_type": "code",
   "execution_count": 5,
   "metadata": {
    "collapsed": false,
    "deletable": true,
    "editable": true
   },
   "outputs": [],
   "source": [
    "import bql\n",
    "import numpy as np\n",
    "from IPython.display import display, clear_output\n",
    "import pandas as pd\n",
    "import datetime\n",
    "from dateutil.relativedelta import relativedelta\n",
    "import bqport\n",
    "from bqport import PositionType\n",
    "import importlib\n",
    "import scoring_model\n",
    "\n",
    "importlib.reload(scoring_model)\n",
    "\n",
    "bq = bql.Service()\n",
    "d = bq.data\n",
    "f = bq.func"
   ]
  },
  {
   "cell_type": "code",
   "execution_count": 6,
   "metadata": {
    "collapsed": false,
    "deletable": true,
    "editable": true
   },
   "outputs": [],
   "source": [
    "def Calc_Inv_BETA(index, asset_list, cur_date, rotation, cur):\n",
    "    \n",
    "    start_date = cur_date - datetime.timedelta(weeks = 4*rotation)\n",
    "    end_date = cur_date\n",
    "    series =  d.day_to_day_total_return(start = start_date, end = end_date, fill = 'prev', currency = cur)\n",
    "    bench_returns = f.value(series, bq.univ.list(index))\n",
    "    inv_beta = 1 / f.slope(bench_returns, series)\n",
    "\n",
    "    request = bql.Request(asset_list, {'INV_RAW_BETA': inv_beta})\n",
    "\n",
    "    res = bq.execute(request)\n",
    "    Inv_Betas=res[0].df()\n",
    "    return Inv_Betas['INV_RAW_BETA']\n",
    "\n",
    "def Calc_Weights(w):\n",
    "    w=np.array(w)\n",
    "    weight = w/w.sum()\n",
    "    return weight\n",
    "    \n",
    "def Equal_Weight(n):\n",
    "    w = [1/n]*n\n",
    "    return w"
   ]
  },
  {
   "cell_type": "code",
   "execution_count": 7,
   "metadata": {
    "collapsed": false,
    "deletable": true,
    "editable": true
   },
   "outputs": [],
   "source": [
    "#INPUTS    ********************\n",
    "index = 'SXXP Index'\n",
    "cur = 'EUR'\n",
    "factor = 'valoracion' #'calidad', 'momentum', 'riesgo', 'valoracion'\n",
    "rotation = 6 #months\n",
    "n_assets = 20\n",
    "equal_weight = True\n",
    "start_date = datetime.datetime(2005, 1, 1) #YYYY,m,d\n",
    "end_date = datetime.datetime(2018, 7, 1) #YYYY,m,d"
   ]
  },
  {
   "cell_type": "code",
   "execution_count": 8,
   "metadata": {
    "collapsed": false,
    "deletable": true,
    "editable": true
   },
   "outputs": [
    {
     "name": "stdout",
     "output_type": "stream",
     "text": [
      "2005-01-01 00:00:00\n",
      "2005-07-01 00:00:00\n",
      "2006-01-01 00:00:00\n",
      "2006-07-01 00:00:00\n",
      "2007-01-01 00:00:00\n",
      "2007-07-01 00:00:00\n",
      "2008-01-01 00:00:00\n",
      "2008-07-01 00:00:00\n",
      "2009-01-01 00:00:00\n",
      "2009-07-01 00:00:00\n",
      "2010-01-01 00:00:00\n",
      "2010-07-01 00:00:00\n",
      "2011-01-01 00:00:00\n",
      "2011-07-01 00:00:00\n",
      "2012-01-01 00:00:00\n",
      "2012-07-01 00:00:00\n",
      "2013-01-01 00:00:00\n",
      "2013-07-01 00:00:00\n",
      "2014-01-01 00:00:00\n",
      "2014-07-01 00:00:00\n",
      "2015-01-01 00:00:00\n",
      "2015-07-01 00:00:00\n",
      "2016-01-01 00:00:00\n",
      "2016-07-01 00:00:00\n",
      "2017-01-01 00:00:00\n",
      "2017-07-01 00:00:00\n",
      "2018-01-01 00:00:00\n",
      "2018-07-01 00:00:00\n",
      "Exportado a PRTU\n"
     ]
    }
   ],
   "source": [
    "###############    MAIN    ###############\n",
    "\n",
    "aux_date = start_date\n",
    "while end_date >= aux_date:\n",
    "    print(aux_date)\n",
    "    \n",
    "    raw_data = scoring_model.get_data(aux_date.strftime('%Y-%m-%d'), cur, [index], True)\n",
    "    data = raw_data[['ID',factor]]\n",
    "    data = data.sort_values(by = [factor], ascending = False).head(n_assets)\n",
    "\n",
    "    asset_list = data['ID'].tolist()\n",
    "\n",
    "    if equal_weight == True:\n",
    "        weights = Equal_Weight(n_assets)\n",
    "    else:\n",
    "        Inv_Betas = Calc_Inv_BETA(index, asset_list, aux_date, rotation, cur)\n",
    "        weights = Calc_Weights(Inv_Betas)\n",
    "    \n",
    "    if aux_date == start_date:\n",
    "        port_df = pd.DataFrame({'date': aux_date,'security': asset_list, 'weight': weights})\n",
    "    else :\n",
    "        aux_port_df = pd.DataFrame({'date': aux_date,'security': asset_list, 'weight': weights})\n",
    "        port_df = pd.concat([port_df, aux_port_df])\n",
    "\n",
    "    aux_date = aux_date + relativedelta(months=rotation)\n",
    "\n",
    "port_df.set_index(['date', 'security'], inplace = True)\n",
    "portfolio_obj = bqport.new_portfolio(from_ = port_df, currency = cur, type_ = PositionType.DRIFTING_WEIGHT, name = 'BQNT_WF_' + index.replace(' Index','') + '_' + factor + '_' + str(n_assets))\n",
    "portfolio_obj.save()\n",
    "print('Exportado a PRTU')"
   ]
  }
 ],
 "metadata": {
  "kernelspec": {
   "display_name": "Python 3 (sandboxed)",
   "language": "python",
   "name": "python3"
  },
  "language_info": {
   "codemirror_mode": {
    "name": "ipython",
    "version": 3
   },
   "file_extension": ".py",
   "mimetype": "text/x-python",
   "name": "python",
   "nbconvert_exporter": "python",
   "pygments_lexer": "ipython3",
   "version": "3.5.5"
  }
 },
 "nbformat": 4,
 "nbformat_minor": 0
}
